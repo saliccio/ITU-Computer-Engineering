{
 "cells": [
  {
   "cell_type": "code",
   "execution_count": 1,
   "metadata": {},
   "outputs": [],
   "source": [
    "import numpy as np\n",
    "import pandas as pd\n",
    "import matplotlib.pyplot as plt\n",
    "import matplotlib\n",
    "import math\n",
    "import random\n",
    "from sklearn.model_selection import KFold\n",
    "df1 = pd.read_csv(\"HW1/train1.csv\") \n",
    "df2 = pd.read_csv(\"HW1/train2.csv\") \n",
    "df3 = pd.read_csv(\"train3.csv\") #will be used in Part D"
   ]
  },
  {
   "cell_type": "code",
   "execution_count": 2,
   "metadata": {},
   "outputs": [
    {
     "name": "stdout",
     "output_type": "stream",
     "text": [
      "      Unnamed: 0        x1        x2    y\n",
      "0              0  1.143987  0.339646  0.0\n",
      "1              1  2.284493  1.129224  0.0\n",
      "2              2  1.053601  0.573296  0.0\n",
      "3              3 -0.652288  3.116746  1.0\n",
      "4              4 -0.223255  3.463650  1.0\n",
      "...          ...       ...       ...  ...\n",
      "1595        1595 -1.415131  3.226519  1.0\n",
      "1596        1596  1.645863  1.057249  0.0\n",
      "1597        1597 -1.575476  3.638737  1.0\n",
      "1598        1598  0.790778  0.626050  0.0\n",
      "1599        1599 -0.292451  0.269355  0.0\n",
      "\n",
      "[1600 rows x 4 columns]\n"
     ]
    }
   ],
   "source": [
    "#By printing a dataframe, you can view the data in csv format\n",
    "print(df1)"
   ]
  },
  {
   "cell_type": "code",
   "execution_count": 3,
   "metadata": {},
   "outputs": [
    {
     "name": "stdout",
     "output_type": "stream",
     "text": [
      "Index(['Unnamed: 0', 'x1', 'x2', 'y'], dtype='object')\n"
     ]
    }
   ],
   "source": [
    "#You can extract keys from dataframe, which you can use to extract features or labels.\n",
    "print(df1.keys())\n",
    "df1_x1 = df1['x1']\n",
    "df1_x2 = df1['x2']\n",
    "#To extract data as numpy array:\n",
    "df1_numpy = df1.values\n",
    "#You can also extract a specific feature as numpy array as well.\n",
    "df1_x1_numpy = df1['x1'].values"
   ]
  },
  {
   "cell_type": "code",
   "execution_count": 4,
   "metadata": {},
   "outputs": [
    {
     "name": "stdout",
     "output_type": "stream",
     "text": [
      "[[ 0.65160952 -0.01944138]\n",
      " [-0.01944138  0.36506496]]\n",
      "[[0.41319973 0.01333729]\n",
      " [0.01333729 1.49504785]]\n"
     ]
    }
   ],
   "source": [
    "df1_data = df1.values[:,1:3]\n",
    "df1_labels = df1.values[:, 3]\n",
    "c1 = df1_data[df1_labels==0]\n",
    "c2 = df1_data[df1_labels==1]\n",
    "print(np.cov(c1.T))\n",
    "print(np.cov(c2.T))"
   ]
  },
  {
   "cell_type": "code",
   "execution_count": 6,
   "metadata": {},
   "outputs": [
    {
     "name": "stdout",
     "output_type": "stream",
     "text": [
      "(1000, 2) (1000, 2)\n",
      "[[ 1.29952458e+00 -3.20601159e-05]\n",
      " [-3.20601159e-05  1.30047560e+00]]\n",
      "[[ 8.99978203e-01 -1.96515212e-05]\n",
      " [-1.96515212e-05  9.00021797e-01]]\n",
      "-0.0009510247003510219\n",
      "-4.359403538800599e-05\n",
      "True\n",
      "True\n",
      "True\n",
      "True\n",
      "True\n",
      "True\n"
     ]
    }
   ],
   "source": [
    "df2_data = df2.values[:,1:3]\n",
    "df2_labels = df2.values[:, 3]\n",
    "c3 = df2_data[df2_labels==0]\n",
    "c4 = df2_data[df2_labels==1]\n",
    "print(c3.shape, c4.shape)\n",
    "cov1 =np.cov(c3.T)\n",
    "cov2 = np.cov(c4.T)\n",
    "print(cov1)\n",
    "print(cov2)\n",
    "print(cov1[0,0] - cov1[1,1])\n",
    "print(cov2[0,0] - cov2[1,1])\n",
    "\n",
    "print((cov1[0,0] - cov1[1,1]) < 1e-3)\n",
    "print((cov2[0,0] - cov2[1,1]) < 1e-3)\n",
    "print((cov1[1,0]) < 1e-3)\n",
    "print((cov2[1,0]) < 1e-3)\n",
    "print((cov1[0,1]) < 1e-3)\n",
    "print((cov2[0,1]) < 1e-3)"
   ]
  },
  {
   "cell_type": "markdown",
   "metadata": {},
   "source": [
    "# Add your comments as markdown cells(This is a markdown cell).\n",
    "\n",
    "## To add a markdown cell, simply click on a cell, then click on the 'Cell' tab above, change 'Cell Type' to 'Markdown'\n",
    "\n",
    "Then add your comment! To view the format of this markdown cell, double click on here.\n",
    "\n",
    "### Note: We provide you with example codes for starter, but feel free to delete anything we provide and write your own code, as long as you use allowed libraries and modules. "
   ]
  },
  {
   "cell_type": "markdown",
   "metadata": {},
   "source": [
    "## Part A: Examine training sets"
   ]
  },
  {
   "cell_type": "code",
   "execution_count": null,
   "metadata": {},
   "outputs": [],
   "source": [
    "#PART A: Examine training sets here. plots etc.\n",
    "#Hint: df1_class0 = df1[df1['column_name']==0] creates a new dataframe and includes samples (rows) whose class values are 0\n",
    "#hint: for data distribution plots use plt.scatter(x-axis,y-axis,other params. check online)\n",
    "#Hint: for each new plot use plt.figure() so they won't overlap, one on top of another\n",
    "#-------\n",
    "#to plot cov. matrices you may use following code: (compute 'cov_mtrx' by yourself)\n",
    "alpha = ['x1', 'x2']\n",
    "fig = plt.figure()\n",
    "ax = fig.add_subplot(111)\n",
    "cax = ax.matshow(cov_mtrx,interpolation='nearest') #cov. matrix of dataset1\n",
    "fig.colorbar(cax)\n",
    "ax.set_xticklabels(['']+alpha)\n",
    "ax.set_yticklabels(['']+alpha)\n",
    "#---------\n",
    "#for the histogram plots use plt.hist() (Remember: 4 of them we want)\n",
    "#for title use: plt.gca().set(title='Data distribution of feature x of trainingSet y', ylabel='Frequency')"
   ]
  },
  {
   "cell_type": "markdown",
   "metadata": {},
   "source": []
  },
  {
   "cell_type": "code",
   "execution_count": null,
   "metadata": {},
   "outputs": [],
   "source": [
    "#Implement PART B:\n",
    "test1 = df.read_csv(\"test1.csv\")\n",
    "test2 = df.read_csv(\"test2.csv\")"
   ]
  },
  {
   "cell_type": "markdown",
   "metadata": {},
   "source": []
  },
  {
   "cell_type": "code",
   "execution_count": null,
   "metadata": {},
   "outputs": [],
   "source": [
    "#Implement PART C:"
   ]
  },
  {
   "cell_type": "markdown",
   "metadata": {},
   "source": []
  }
 ],
 "metadata": {
  "kernelspec": {
   "display_name": "Python 3 (ipykernel)",
   "language": "python",
   "name": "python3"
  },
  "language_info": {
   "codemirror_mode": {
    "name": "ipython",
    "version": 3
   },
   "file_extension": ".py",
   "mimetype": "text/x-python",
   "name": "python",
   "nbconvert_exporter": "python",
   "pygments_lexer": "ipython3",
   "version": "3.9.7"
  }
 },
 "nbformat": 4,
 "nbformat_minor": 4
}
