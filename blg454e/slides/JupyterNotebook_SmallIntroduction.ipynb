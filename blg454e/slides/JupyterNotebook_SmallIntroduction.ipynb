{
 "cells": [
  {
   "cell_type": "markdown",
   "metadata": {},
   "source": [
    "# How to Use Jupyter Notebook?\n",
    "\n",
    "##### T.A Şeymanur Aktı - akti15@itu.edu.tr"
   ]
  },
  {
   "cell_type": "markdown",
   "metadata": {},
   "source": [
    "In this tutorial we will learn how to install Jupyter Notebook, how to use its functions.\n",
    "\n",
    "A notebook integrates code and its output into a single document. This becomes so useful we need to combine visualizations, narrative text, mathematical equations in the same place. <br>\n",
    "A <b><i>Jupyter notebook</i></b> is a single document where you can run code, display its output, and also add explanations or comments which makes your work more methdological, understandable and shareable.\n",
    "\n",
    "There are two main terms that we see often when we use Jupyter notebook:\n",
    "* <b>Kernel:</b> It is a computational engine responsible for executing the code contained in Jupyter notebook.\n",
    "* <b>Cell:</b> It is an elementary container of the text to be displayed or the code to be executed in the notebook"
   ]
  },
  {
   "cell_type": "markdown",
   "metadata": {},
   "source": [
    "## 1. Installing"
   ]
  },
  {
   "cell_type": "markdown",
   "metadata": {},
   "source": [
    "Jupyter Notebook requires Python 2.7 or Python 3.3 or greater version.\n",
    " \n",
    "### a) Installing using Anaconda\n",
    " \n",
    "The Jupyter Notebook can be installed along with Anaconda. If you do not have Anaconda environment on you computer you can install it here: https://www.anaconda.com/download\n",
    " \n",
    " - If you download Anaconda along with its packages, jupyter notebook will be automatically installed on your computer.\n",
    " - If you have installed miniconda, or did not install jupyter notebook along with anaconda, you can use this command to install jupyter notebook:\n",
    "             > conda install -c conda-forge notebook\n",
    "            \n",
    "### b) Installing using pip command\n",
    "\n",
    "You can use pip command in order to install jupyter notebook if you have python on your computer. First upgrade your pip installer and then install jupyter notebook.\n",
    "\n",
    " - For Python 2.7:\n",
    "             > pip install --upgrade pip\n",
    "             > pip install notebook\n",
    " - For Python 3.3+:\n",
    "             > pip3 install --upgrade pip\n",
    "             > pip3 install notebook\n",
    "             \n",
    "\n",
    "#### After installing jupyter notebook you can launch it by typing following command on command line:\n",
    "             \n",
    "             > jupyter notebook\n"
   ]
  },
  {
   "cell_type": "markdown",
   "metadata": {},
   "source": [
    "## 2. How to use notebook?\n",
    "\n",
    "- First, create a new notebook choosing the Python version.\n",
    "- Then you can name your notebook and insert cells.\n",
    "\n",
    "There are two main types for cells:\n",
    "* <i>Code cells</i>\n",
    "* <i>Markdown cells</i>\n",
    "\n",
    "The cells that you have seen until now are markdown cells where you can enter texts with different fonts.\n",
    "    - You can type # at the start of line in order to make it a header. Number of #'s defines the size of the header.\n",
    "    - You can create nested lists using indentations and ' - ' character.\n",
    "\n"
   ]
  },
  {
   "cell_type": "markdown",
   "metadata": {},
   "source": [
    "Add some  text here.\n",
    "\n",
    "# Heading 1\n",
    "## Heading 2\n",
    "### Heading 3"
   ]
  },
  {
   "cell_type": "markdown",
   "metadata": {},
   "source": [
    "- The following is a code cell:"
   ]
  },
  {
   "cell_type": "code",
   "execution_count": 3,
   "metadata": {},
   "outputs": [
    {
     "name": "stdout",
     "output_type": "stream",
     "text": [
      "hello world!\n"
     ]
    }
   ],
   "source": [
    "print(\"hello world!\")"
   ]
  },
  {
   "cell_type": "code",
   "execution_count": 4,
   "metadata": {},
   "outputs": [
    {
     "name": "stdout",
     "output_type": "stream",
     "text": [
      "goodbye!\n"
     ]
    }
   ],
   "source": [
    "print(\"goodbye!\")"
   ]
  },
  {
   "cell_type": "markdown",
   "metadata": {},
   "source": [
    "It is possible to see the output of cell right below the cell itself and run the code parts seperately.\n",
    "\n",
    "Also, the variables and other things are kept in the memory so that they can be used at different cells."
   ]
  },
  {
   "cell_type": "code",
   "execution_count": 5,
   "metadata": {},
   "outputs": [
    {
     "name": "stdout",
     "output_type": "stream",
     "text": [
      "a = 5\n"
     ]
    }
   ],
   "source": [
    "a = 5\n",
    "print(\"a =\", a)"
   ]
  },
  {
   "cell_type": "code",
   "execution_count": 7,
   "metadata": {},
   "outputs": [
    {
     "name": "stdout",
     "output_type": "stream",
     "text": [
      "b = 9\n"
     ]
    }
   ],
   "source": [
    "b = a + 4\n",
    "print(\"b =\", b)"
   ]
  },
  {
   "cell_type": "markdown",
   "metadata": {},
   "source": [
    "It is also possible to add equations in LaTeX:\n",
    "\n",
    "$a_2 = 2$\n",
    "$a_1 = 4$\n",
    "\n",
    "$a^2 = 9$"
   ]
  },
  {
   "cell_type": "markdown",
   "metadata": {},
   "source": [
    "- The Run button at the top menu runs the current cell. The keyboard shortcut is Shift+Enter.\n",
    "- There are also functions at top menu for:\n",
    "    - Inserting, moving, cutting, splitting, copying, pasting cells.\n",
    "    - Interrupting or restarting the kernel.\n",
    "    - Saving your notebook, downloading notebook in various formats."
   ]
  }
 ],
 "metadata": {
  "kernelspec": {
   "display_name": "Python 3",
   "language": "python",
   "name": "python3"
  },
  "language_info": {
   "codemirror_mode": {
    "name": "ipython",
    "version": 3
   },
   "file_extension": ".py",
   "mimetype": "text/x-python",
   "name": "python",
   "nbconvert_exporter": "python",
   "pygments_lexer": "ipython3",
   "version": "3.7.6"
  }
 },
 "nbformat": 4,
 "nbformat_minor": 2
}
