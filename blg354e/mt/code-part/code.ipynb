{
 "cells": [
  {
   "cell_type": "code",
   "execution_count": 1,
   "id": "3f4cc41d",
   "metadata": {},
   "outputs": [],
   "source": [
    "import numpy as np\n",
    "import matplotlib.pyplot as plt\n",
    "\n",
    "def imp(n):\n",
    "    if n == 0:\n",
    "        return 1\n",
    "    return 0"
   ]
  },
  {
   "cell_type": "code",
   "execution_count": 2,
   "id": "3a3c3d73",
   "metadata": {},
   "outputs": [
    {
     "data": {
      "image/png": "[encoded data removed]",
      "text/plain": [
       "<Figure size 432x288 with 1 Axes>"
      ]
     },
     "metadata": {
      "needs_background": "light"
     },
     "output_type": "display_data"
    },
    {
     "data": {
      "image/png": "[encoded data removed]",
      "text/plain": [
       "<Figure size 432x288 with 1 Axes>"
      ]
     },
     "metadata": {
      "needs_background": "light"
     },
     "output_type": "display_data"
    }
   ],
   "source": [
    "x1 = 0.5 ** np.arange(0, 15)    #u[n] makes the nonzero signal start from 0\n",
    "\n",
    "plt.stem(x1)\n",
    "plt.title(\"Signal 1\")\n",
    "plt.show()\n",
    "\n",
    "_x2 = lambda n: imp(n) + 2*imp(n - 1) + 4*imp(n - 3) + 5*imp(n - 4) - 10*imp(n - 5)\n",
    "_x2 = np.vectorize(_x2)\n",
    "x2 = _x2(np.arange(0, 6))\n",
    "\n",
    "plt.stem(x2)\n",
    "plt.title(\"Signal 2\")\n",
    "plt.show()"
   ]
  },
  {
   "cell_type": "code",
   "execution_count": 3,
   "id": "bdc81328",
   "metadata": {},
   "outputs": [
    {
     "name": "stdout",
     "output_type": "stream",
     "text": [
      "Discrete time Fourier series coefficients for x1:  [0.13332926+0.j         0.10763429-0.04029511j 0.07636994-0.04264425j\n",
      " 0.05989947-0.03368915j 0.05178836-0.02447325j 0.04761759-0.01649522j\n",
      " 0.04547366-0.00951534j 0.04455206-0.00311029j 0.04455206+0.00311029j\n",
      " 0.04547366+0.00951534j 0.04761759+0.01649522j 0.05178836+0.02447325j\n",
      " 0.05989947+0.03368915j 0.07636994+0.04264425j 0.10763429+0.04029511j]\n",
      "\n",
      "Discrete time Fourier series coefficients for x2:  [ 0.33333333+0.00000000e+00j -1.58333333-1.01036297e+00j\n",
      "  1.08333333-2.45373864e+00j  1.66666667+4.10359841e-15j\n",
      "  1.08333333+2.45373864e+00j -1.58333333+1.01036297e+00j]\n"
     ]
    }
   ],
   "source": [
    "x1_T = 15\n",
    "x1_ak = np.zeros(x1_T, dtype=np.cdouble)    #x1 coefficients\n",
    "for k in range(x1_T):\n",
    "    for n in range(x1_T):\n",
    "        x1_ak[k] += x1[n]*np.exp(-1j*2*np.pi*k*n/x1_T)\n",
    "    x1_ak[k] /= x1_T\n",
    "print(\"Discrete time Fourier series coefficients for x1: \", x1_ak)\n",
    "    \n",
    "x2_T = 6\n",
    "x2_ak = np.zeros(x2_T, dtype=np.cdouble)    #x2 coefficients\n",
    "for k in range(x2_T):\n",
    "    for n in range(x2_T):\n",
    "        x2_ak[k] += x2[n]*np.exp(-1j*2*np.pi*k*n/x2_T)\n",
    "    x2_ak[k] /= x2_T\n",
    "print(\"\\nDiscrete time Fourier series coefficients for x2: \", x2_ak)"
   ]
  },
  {
   "cell_type": "code",
   "execution_count": 4,
   "id": "dbfacec0",
   "metadata": {},
   "outputs": [
    {
     "name": "stdout",
     "output_type": "stream",
     "text": [
      "Coefficient complex magnitudes for x1:  [0.13332926 0.1149297  0.08746942 0.06872339 0.05727979 0.05039373\n",
      " 0.04645854 0.04466049 0.04466049 0.04645854 0.05039373 0.05727979\n",
      " 0.06872339 0.08746942 0.1149297 ]\n",
      "\n",
      "Maximum complex magnitude for x1:  0.1\n",
      "\n",
      "Coefficient complex magnitudes for x2:  [0.33333333 1.87823794 2.68224616 1.66666667 2.68224616 1.87823794]\n",
      "\n",
      "Maximum complex magnitude for x2:  2.6\n"
     ]
    }
   ],
   "source": [
    "x1_complex_mag = np.absolute(x1_ak)   #x1 coefficient complex magnitudes\n",
    "print(\"Coefficient complex magnitudes for x1: \", x1_complex_mag)\n",
    "\n",
    "x1_max_mag = np.max(x1_complex_mag)\n",
    "print(\"\\nMaximum complex magnitude for x1: \", float(str(x1_max_mag)[:3]))\n",
    "\n",
    "x2_complex_mag = np.absolute(x2_ak)   #x2 coefficient complex magnitudes\n",
    "print(\"\\nCoefficient complex magnitudes for x2: \", x2_complex_mag)\n",
    "\n",
    "x2_max_mag = np.max(x2_complex_mag)\n",
    "print(\"\\nMaximum complex magnitude for x2: \", float(str(x2_max_mag)[:3]))"
   ]
  },
  {
   "cell_type": "code",
   "execution_count": null,
   "id": "0198b18a",
   "metadata": {},
   "outputs": [],
   "source": []
  }
 ],
 "metadata": {
  "kernelspec": {
   "display_name": "Python 3 (ipykernel)",
   "language": "python",
   "name": "python3"
  },
  "language_info": {
   "codemirror_mode": {
    "name": "ipython",
    "version": 3
   },
   "file_extension": ".py",
   "mimetype": "text/x-python",
   "name": "python",
   "nbconvert_exporter": "python",
   "pygments_lexer": "ipython3",
   "version": "3.9.7"
  }
 },
 "nbformat": 4,
 "nbformat_minor": 5
}
